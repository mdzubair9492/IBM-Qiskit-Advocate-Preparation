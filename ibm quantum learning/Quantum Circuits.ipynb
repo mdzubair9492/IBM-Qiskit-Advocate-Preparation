{
 "cells": [
  {
   "cell_type": "code",
   "execution_count": 1,
   "id": "9d41a062",
   "metadata": {},
   "outputs": [
    {
     "name": "stdout",
     "output_type": "stream",
     "text": [
      "Requirement already satisfied: qiskit in c:\\users\\lenovo\\anaconda3\\lib\\site-packages (0.46.0)\n",
      "Requirement already satisfied: qiskit-terra==0.46.0 in c:\\users\\lenovo\\anaconda3\\lib\\site-packages (from qiskit) (0.46.0)\n",
      "Requirement already satisfied: rustworkx>=0.13.0 in c:\\users\\lenovo\\anaconda3\\lib\\site-packages (from qiskit-terra==0.46.0->qiskit) (0.13.2)\n",
      "Requirement already satisfied: numpy<2,>=1.17 in c:\\users\\lenovo\\anaconda3\\lib\\site-packages (from qiskit-terra==0.46.0->qiskit) (1.23.5)\n",
      "Requirement already satisfied: ply>=3.10 in c:\\users\\lenovo\\anaconda3\\lib\\site-packages (from qiskit-terra==0.46.0->qiskit) (3.11)\n",
      "Requirement already satisfied: psutil>=5 in c:\\users\\lenovo\\anaconda3\\lib\\site-packages (from qiskit-terra==0.46.0->qiskit) (5.9.0)\n",
      "Requirement already satisfied: scipy>=1.5 in c:\\users\\lenovo\\anaconda3\\lib\\site-packages (from qiskit-terra==0.46.0->qiskit) (1.11.1)\n",
      "Requirement already satisfied: sympy>=1.3 in c:\\users\\lenovo\\anaconda3\\lib\\site-packages (from qiskit-terra==0.46.0->qiskit) (1.11.1)\n",
      "Requirement already satisfied: dill>=0.3 in c:\\users\\lenovo\\anaconda3\\lib\\site-packages (from qiskit-terra==0.46.0->qiskit) (0.3.6)\n",
      "Requirement already satisfied: python-dateutil>=2.8.0 in c:\\users\\lenovo\\anaconda3\\lib\\site-packages (from qiskit-terra==0.46.0->qiskit) (2.8.2)\n",
      "Requirement already satisfied: stevedore>=3.0.0 in c:\\users\\lenovo\\anaconda3\\lib\\site-packages (from qiskit-terra==0.46.0->qiskit) (5.1.0)\n",
      "Requirement already satisfied: six>=1.5 in c:\\users\\lenovo\\anaconda3\\lib\\site-packages (from python-dateutil>=2.8.0->qiskit-terra==0.46.0->qiskit) (1.16.0)\n",
      "Requirement already satisfied: pbr!=2.1.0,>=2.0.0 in c:\\users\\lenovo\\anaconda3\\lib\\site-packages (from stevedore>=3.0.0->qiskit-terra==0.46.0->qiskit) (6.0.0)\n",
      "Requirement already satisfied: mpmath>=0.19 in c:\\users\\lenovo\\anaconda3\\lib\\site-packages (from sympy>=1.3->qiskit-terra==0.46.0->qiskit) (1.3.0)\n",
      "Requirement already satisfied: qiskit-aer in c:\\users\\lenovo\\anaconda3\\lib\\site-packages (0.13.1)\n",
      "Requirement already satisfied: qiskit>=0.44.0 in c:\\users\\lenovo\\anaconda3\\lib\\site-packages (from qiskit-aer) (0.46.0)\n",
      "Requirement already satisfied: numpy>=1.16.3 in c:\\users\\lenovo\\anaconda3\\lib\\site-packages (from qiskit-aer) (1.23.5)\n",
      "Requirement already satisfied: scipy>=1.0 in c:\\users\\lenovo\\anaconda3\\lib\\site-packages (from qiskit-aer) (1.11.1)\n",
      "Requirement already satisfied: psutil>=5 in c:\\users\\lenovo\\anaconda3\\lib\\site-packages (from qiskit-aer) (5.9.0)\n",
      "Requirement already satisfied: qiskit-terra==0.46.0 in c:\\users\\lenovo\\anaconda3\\lib\\site-packages (from qiskit>=0.44.0->qiskit-aer) (0.46.0)\n",
      "Requirement already satisfied: rustworkx>=0.13.0 in c:\\users\\lenovo\\anaconda3\\lib\\site-packages (from qiskit-terra==0.46.0->qiskit>=0.44.0->qiskit-aer) (0.13.2)\n",
      "Requirement already satisfied: ply>=3.10 in c:\\users\\lenovo\\anaconda3\\lib\\site-packages (from qiskit-terra==0.46.0->qiskit>=0.44.0->qiskit-aer) (3.11)\n",
      "Requirement already satisfied: sympy>=1.3 in c:\\users\\lenovo\\anaconda3\\lib\\site-packages (from qiskit-terra==0.46.0->qiskit>=0.44.0->qiskit-aer) (1.11.1)\n",
      "Requirement already satisfied: dill>=0.3 in c:\\users\\lenovo\\anaconda3\\lib\\site-packages (from qiskit-terra==0.46.0->qiskit>=0.44.0->qiskit-aer) (0.3.6)\n",
      "Requirement already satisfied: python-dateutil>=2.8.0 in c:\\users\\lenovo\\anaconda3\\lib\\site-packages (from qiskit-terra==0.46.0->qiskit>=0.44.0->qiskit-aer) (2.8.2)\n",
      "Requirement already satisfied: stevedore>=3.0.0 in c:\\users\\lenovo\\anaconda3\\lib\\site-packages (from qiskit-terra==0.46.0->qiskit>=0.44.0->qiskit-aer) (5.1.0)\n",
      "Requirement already satisfied: six>=1.5 in c:\\users\\lenovo\\anaconda3\\lib\\site-packages (from python-dateutil>=2.8.0->qiskit-terra==0.46.0->qiskit>=0.44.0->qiskit-aer) (1.16.0)\n",
      "Requirement already satisfied: pbr!=2.1.0,>=2.0.0 in c:\\users\\lenovo\\anaconda3\\lib\\site-packages (from stevedore>=3.0.0->qiskit-terra==0.46.0->qiskit>=0.44.0->qiskit-aer) (6.0.0)\n",
      "Requirement already satisfied: mpmath>=0.19 in c:\\users\\lenovo\\anaconda3\\lib\\site-packages (from sympy>=1.3->qiskit-terra==0.46.0->qiskit>=0.44.0->qiskit-aer) (1.3.0)\n"
     ]
    }
   ],
   "source": [
    "!pip install qiskit\n",
    "!pip install qiskit-aer"
   ]
  },
  {
   "cell_type": "code",
   "execution_count": 10,
   "id": "566f78b1",
   "metadata": {},
   "outputs": [
    {
     "name": "stderr",
     "output_type": "stream",
     "text": [
      "C:\\Users\\LENOVO\\AppData\\Local\\Temp\\ipykernel_15592\\259700773.py:3: DeprecationWarning: qiskit.__qiskit_version__ is deprecated since Qiskit Terra 0.25.0, and will be removed 3 months or more later. Instead, you should use qiskit.__version__. The other packages listed in theformer qiskit.__qiskit_version__ have their own __version__ module level dunder, as standard in PEP 8.\n",
      "  print(qiskit.__qiskit_version__)\n"
     ]
    },
    {
     "name": "stdout",
     "output_type": "stream",
     "text": [
      "{'qiskit': '0.46.0', 'qiskit-aer': '0.13.1', 'qiskit-ignis': None, 'qiskit-ibmq-provider': '0.20.2', 'qiskit-nature': None, 'qiskit-finance': None, 'qiskit-optimization': None, 'qiskit-machine-learning': None}\n"
     ]
    }
   ],
   "source": [
    "import qiskit\n",
    "\n",
    "print(qiskit.__qiskit_version__)\n"
   ]
  },
  {
   "cell_type": "code",
   "execution_count": 14,
   "id": "2c72ea68",
   "metadata": {},
   "outputs": [
    {
     "name": "stdout",
     "output_type": "stream",
     "text": [
      "Collecting qiskit==1.0\n",
      "  Obtaining dependency information for qiskit==1.0 from https://files.pythonhosted.org/packages/e2/c6/b77e9671aac9cf2815951cd028e86da0d296def6e776a80de672c24193cb/qiskit-1.0.0-cp38-abi3-win_amd64.whl.metadata\n",
      "  Using cached qiskit-1.0.0-cp38-abi3-win_amd64.whl.metadata (12 kB)\n",
      "Requirement already satisfied: rustworkx>=0.14.0 in c:\\users\\lenovo\\anaconda3\\lib\\site-packages (from qiskit==1.0) (0.14.2)\n",
      "Requirement already satisfied: numpy<2,>=1.17 in c:\\users\\lenovo\\anaconda3\\lib\\site-packages (from qiskit==1.0) (1.23.5)\n",
      "Requirement already satisfied: scipy>=1.5 in c:\\users\\lenovo\\anaconda3\\lib\\site-packages (from qiskit==1.0) (1.11.1)\n",
      "Requirement already satisfied: sympy>=1.3 in c:\\users\\lenovo\\anaconda3\\lib\\site-packages (from qiskit==1.0) (1.11.1)\n",
      "Requirement already satisfied: dill>=0.3 in c:\\users\\lenovo\\anaconda3\\lib\\site-packages (from qiskit==1.0) (0.3.6)\n",
      "Requirement already satisfied: python-dateutil>=2.8.0 in c:\\users\\lenovo\\anaconda3\\lib\\site-packages (from qiskit==1.0) (2.8.2)\n",
      "Requirement already satisfied: stevedore>=3.0.0 in c:\\users\\lenovo\\anaconda3\\lib\\site-packages (from qiskit==1.0) (5.1.0)\n",
      "Requirement already satisfied: typing-extensions in c:\\users\\lenovo\\anaconda3\\lib\\site-packages (from qiskit==1.0) (4.7.1)\n",
      "Requirement already satisfied: symengine>=0.11 in c:\\users\\lenovo\\anaconda3\\lib\\site-packages (from qiskit==1.0) (0.11.0)\n",
      "Requirement already satisfied: six>=1.5 in c:\\users\\lenovo\\anaconda3\\lib\\site-packages (from python-dateutil>=2.8.0->qiskit==1.0) (1.16.0)\n",
      "Requirement already satisfied: pbr!=2.1.0,>=2.0.0 in c:\\users\\lenovo\\anaconda3\\lib\\site-packages (from stevedore>=3.0.0->qiskit==1.0) (6.0.0)\n",
      "Requirement already satisfied: mpmath>=0.19 in c:\\users\\lenovo\\anaconda3\\lib\\site-packages (from sympy>=1.3->qiskit==1.0) (1.3.0)\n",
      "Using cached qiskit-1.0.0-cp38-abi3-win_amd64.whl (4.1 MB)\n",
      "Installing collected packages: qiskit\n",
      "Successfully installed qiskit-1.0.0\n"
     ]
    }
   ],
   "source": [
    "!pip install --upgrade qiskit==1.0 --user\n"
   ]
  },
  {
   "cell_type": "code",
   "execution_count": 2,
   "id": "330925e9",
   "metadata": {},
   "outputs": [
    {
     "name": "stdout",
     "output_type": "stream",
     "text": [
      "Requirement already satisfied: qiskit==1.0 in c:\\users\\lenovo\\appdata\\roaming\\python\\python311\\site-packages (1.0.0)\n",
      "Requirement already satisfied: rustworkx>=0.14.0 in c:\\users\\lenovo\\anaconda3\\lib\\site-packages (from qiskit==1.0) (0.14.2)\n",
      "Requirement already satisfied: numpy<2,>=1.17 in c:\\users\\lenovo\\anaconda3\\lib\\site-packages (from qiskit==1.0) (1.23.5)\n",
      "Requirement already satisfied: scipy>=1.5 in c:\\users\\lenovo\\anaconda3\\lib\\site-packages (from qiskit==1.0) (1.11.1)\n",
      "Requirement already satisfied: sympy>=1.3 in c:\\users\\lenovo\\anaconda3\\lib\\site-packages (from qiskit==1.0) (1.11.1)\n",
      "Requirement already satisfied: dill>=0.3 in c:\\users\\lenovo\\anaconda3\\lib\\site-packages (from qiskit==1.0) (0.3.6)\n",
      "Requirement already satisfied: python-dateutil>=2.8.0 in c:\\users\\lenovo\\anaconda3\\lib\\site-packages (from qiskit==1.0) (2.8.2)\n",
      "Requirement already satisfied: stevedore>=3.0.0 in c:\\users\\lenovo\\anaconda3\\lib\\site-packages (from qiskit==1.0) (5.1.0)\n",
      "Requirement already satisfied: typing-extensions in c:\\users\\lenovo\\anaconda3\\lib\\site-packages (from qiskit==1.0) (4.7.1)\n",
      "Requirement already satisfied: symengine>=0.11 in c:\\users\\lenovo\\anaconda3\\lib\\site-packages (from qiskit==1.0) (0.11.0)\n",
      "Requirement already satisfied: six>=1.5 in c:\\users\\lenovo\\anaconda3\\lib\\site-packages (from python-dateutil>=2.8.0->qiskit==1.0) (1.16.0)\n",
      "Requirement already satisfied: pbr!=2.1.0,>=2.0.0 in c:\\users\\lenovo\\anaconda3\\lib\\site-packages (from stevedore>=3.0.0->qiskit==1.0) (6.0.0)\n",
      "Requirement already satisfied: mpmath>=0.19 in c:\\users\\lenovo\\anaconda3\\lib\\site-packages (from sympy>=1.3->qiskit==1.0) (1.3.0)\n",
      "Note: you may need to restart the kernel to use updated packages.\n"
     ]
    }
   ],
   "source": [
    "pip install --upgrade qiskit==1.0\n"
   ]
  },
  {
   "cell_type": "code",
   "execution_count": 4,
   "id": "9962f012",
   "metadata": {},
   "outputs": [
    {
     "data": {
      "text/plain": [
       "'1.0.0'"
      ]
     },
     "execution_count": 4,
     "metadata": {},
     "output_type": "execute_result"
    }
   ],
   "source": [
    "import qiskit\n",
    "\n",
    "qiskit.__version__"
   ]
  },
  {
   "cell_type": "code",
   "execution_count": 5,
   "id": "175c0756",
   "metadata": {},
   "outputs": [],
   "source": [
    "from qiskit import QuantumCircuit,QuantumRegister,ClassicalRegister\n",
    "from qiskit.primitives import Sampler\n",
    "from qiskit.visualization import plot_histogram"
   ]
  },
  {
   "cell_type": "code",
   "execution_count": 3,
   "id": "bd139c32",
   "metadata": {},
   "outputs": [
    {
     "name": "stderr",
     "output_type": "stream",
     "text": [
      "C:\\Users\\LENOVO\\anaconda3\\Lib\\site-packages\\qiskit\\visualization\\circuit\\matplotlib.py:266: FutureWarning: The default matplotlib drawer scheme will be changed to \"iqp\" in a following release. To silence this warning, specify the current default explicitly as style=\"clifford\", or the new default as style=\"iqp\".\n",
      "  self._style, def_font_ratio = load_style(self._style)\n"
     ]
    },
    {
     "data": {
      "image/png": "[encoded data removed]",
      "text/plain": [
       "<Figure size 436.286x117.056 with 1 Axes>"
      ]
     },
     "metadata": {},
     "output_type": "display_data"
    }
   ],
   "source": [
    "ckt = QuantumCircuit(1)\n",
    "\n",
    "ckt.h(0)\n",
    "ckt.s(0)\n",
    "ckt.h(0)\n",
    "ckt.t(0)\n",
    "\n",
    "display(ckt.draw(output='mpl'))"
   ]
  },
  {
   "cell_type": "code",
   "execution_count": 5,
   "id": "e1885130",
   "metadata": {},
   "outputs": [
    {
     "data": {
      "image/png": "[encoded data removed]",
      "text/plain": [
       "<Figure size 437.882x117.056 with 1 Axes>"
      ]
     },
     "metadata": {},
     "output_type": "display_data"
    }
   ],
   "source": [
    "# customizing qubit names in QuantumRegister\n",
    "\n",
    "X = QuantumRegister(1,'X')\n",
    "ckt = QuantumCircuit(X)\n",
    "\n",
    "ckt.h(X)\n",
    "ckt.s(X)\n",
    "ckt.h(X)\n",
    "ckt.t(X)\n",
    "\n",
    "display(ckt.draw('mpl'))"
   ]
  },
  {
   "cell_type": "code",
   "execution_count": 7,
   "id": "522bc6b9",
   "metadata": {},
   "outputs": [
    {
     "data": {
      "image/png": "[encoded data removed]",
      "text/plain": [
       "<Figure size 437.882x367.889 with 1 Axes>"
      ]
     },
     "metadata": {},
     "output_type": "display_data"
    }
   ],
   "source": [
    "# Bell state\n",
    "\n",
    "X = QuantumRegister(1,'X')\n",
    "Y = QuantumRegister(1,'Y')\n",
    "A = ClassicalRegister(1,'A')\n",
    "B = ClassicalRegister(1,'B')\n",
    "\n",
    "ckt = QuantumCircuit(Y,X,B,A)\n",
    "ckt.h(Y)\n",
    "ckt.cx(Y,X)\n",
    "ckt.measure(Y,B)\n",
    "ckt.measure(X,A)\n",
    "display(ckt.draw('mpl'))"
   ]
  },
  {
   "cell_type": "code",
   "execution_count": 9,
   "id": "cea73e32",
   "metadata": {
    "scrolled": true
   },
   "outputs": [
    {
     "data": {
      "image/png": "[encoded data removed]",
      "text/plain": [
       "<Figure size 700x500 with 1 Axes>"
      ]
     },
     "metadata": {},
     "output_type": "display_data"
    }
   ],
   "source": [
    "# simulating the circuit using Sampler primitive\n",
    "\n",
    "results = Sampler().run(ckt).result()\n",
    "statistics = results.quasi_dists[0].binary_probabilities()\n",
    "display(plot_histogram(statistics))"
   ]
  },
  {
   "cell_type": "code",
   "execution_count": 14,
   "id": "88cf0581",
   "metadata": {},
   "outputs": [
    {
     "data": {
      "text/plain": [
       "{'00': 0.4999999999999999, '11': 0.4999999999999999}"
      ]
     },
     "execution_count": 14,
     "metadata": {},
     "output_type": "execute_result"
    }
   ],
   "source": [
    "results.quasi_dists[0].binary_probabilities()"
   ]
  },
  {
   "cell_type": "code",
   "execution_count": null,
   "id": "b2b4c65e",
   "metadata": {},
   "outputs": [],
   "source": []
  }
 ],
 "metadata": {
  "kernelspec": {
   "display_name": "Python 3 (ipykernel)",
   "language": "python",
   "name": "python3"
  },
  "language_info": {
   "codemirror_mode": {
    "name": "ipython",
    "version": 3
   },
   "file_extension": ".py",
   "mimetype": "text/x-python",
   "name": "python",
   "nbconvert_exporter": "python",
   "pygments_lexer": "ipython3",
   "version": "3.11.5"
  }
 },
 "nbformat": 4,
 "nbformat_minor": 5
}
