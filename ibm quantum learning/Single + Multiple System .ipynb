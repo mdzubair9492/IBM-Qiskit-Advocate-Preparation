{
 "cells": [
  {
   "cell_type": "code",
   "execution_count": 1,
   "id": "81f077a5",
   "metadata": {},
   "outputs": [
    {
     "name": "stdout",
     "output_type": "stream",
     "text": [
      "Requirement already satisfied: qiskit in c:\\users\\lenovo\\anaconda3\\lib\\site-packages (0.46.0)\n",
      "Requirement already satisfied: qiskit-terra==0.46.0 in c:\\users\\lenovo\\anaconda3\\lib\\site-packages (from qiskit) (0.46.0)\n",
      "Requirement already satisfied: rustworkx>=0.13.0 in c:\\users\\lenovo\\anaconda3\\lib\\site-packages (from qiskit-terra==0.46.0->qiskit) (0.13.2)\n",
      "Requirement already satisfied: numpy<2,>=1.17 in c:\\users\\lenovo\\anaconda3\\lib\\site-packages (from qiskit-terra==0.46.0->qiskit) (1.23.5)\n",
      "Requirement already satisfied: ply>=3.10 in c:\\users\\lenovo\\anaconda3\\lib\\site-packages (from qiskit-terra==0.46.0->qiskit) (3.11)\n",
      "Requirement already satisfied: psutil>=5 in c:\\users\\lenovo\\anaconda3\\lib\\site-packages (from qiskit-terra==0.46.0->qiskit) (5.9.0)\n",
      "Requirement already satisfied: scipy>=1.5 in c:\\users\\lenovo\\anaconda3\\lib\\site-packages (from qiskit-terra==0.46.0->qiskit) (1.11.1)\n",
      "Requirement already satisfied: sympy>=1.3 in c:\\users\\lenovo\\anaconda3\\lib\\site-packages (from qiskit-terra==0.46.0->qiskit) (1.11.1)\n",
      "Requirement already satisfied: dill>=0.3 in c:\\users\\lenovo\\anaconda3\\lib\\site-packages (from qiskit-terra==0.46.0->qiskit) (0.3.6)\n",
      "Requirement already satisfied: python-dateutil>=2.8.0 in c:\\users\\lenovo\\anaconda3\\lib\\site-packages (from qiskit-terra==0.46.0->qiskit) (2.8.2)\n",
      "Requirement already satisfied: stevedore>=3.0.0 in c:\\users\\lenovo\\anaconda3\\lib\\site-packages (from qiskit-terra==0.46.0->qiskit) (5.1.0)\n",
      "Requirement already satisfied: six>=1.5 in c:\\users\\lenovo\\anaconda3\\lib\\site-packages (from python-dateutil>=2.8.0->qiskit-terra==0.46.0->qiskit) (1.16.0)\n",
      "Requirement already satisfied: pbr!=2.1.0,>=2.0.0 in c:\\users\\lenovo\\anaconda3\\lib\\site-packages (from stevedore>=3.0.0->qiskit-terra==0.46.0->qiskit) (6.0.0)\n",
      "Requirement already satisfied: mpmath>=0.19 in c:\\users\\lenovo\\anaconda3\\lib\\site-packages (from sympy>=1.3->qiskit-terra==0.46.0->qiskit) (1.3.0)\n",
      "Requirement already satisfied: qiskit-aer in c:\\users\\lenovo\\anaconda3\\lib\\site-packages (0.13.1)\n",
      "Requirement already satisfied: qiskit>=0.44.0 in c:\\users\\lenovo\\anaconda3\\lib\\site-packages (from qiskit-aer) (0.46.0)\n",
      "Requirement already satisfied: numpy>=1.16.3 in c:\\users\\lenovo\\anaconda3\\lib\\site-packages (from qiskit-aer) (1.23.5)\n",
      "Requirement already satisfied: scipy>=1.0 in c:\\users\\lenovo\\anaconda3\\lib\\site-packages (from qiskit-aer) (1.11.1)\n",
      "Requirement already satisfied: psutil>=5 in c:\\users\\lenovo\\anaconda3\\lib\\site-packages (from qiskit-aer) (5.9.0)\n",
      "Requirement already satisfied: qiskit-terra==0.46.0 in c:\\users\\lenovo\\anaconda3\\lib\\site-packages (from qiskit>=0.44.0->qiskit-aer) (0.46.0)\n",
      "Requirement already satisfied: rustworkx>=0.13.0 in c:\\users\\lenovo\\anaconda3\\lib\\site-packages (from qiskit-terra==0.46.0->qiskit>=0.44.0->qiskit-aer) (0.13.2)\n",
      "Requirement already satisfied: ply>=3.10 in c:\\users\\lenovo\\anaconda3\\lib\\site-packages (from qiskit-terra==0.46.0->qiskit>=0.44.0->qiskit-aer) (3.11)\n",
      "Requirement already satisfied: sympy>=1.3 in c:\\users\\lenovo\\anaconda3\\lib\\site-packages (from qiskit-terra==0.46.0->qiskit>=0.44.0->qiskit-aer) (1.11.1)\n",
      "Requirement already satisfied: dill>=0.3 in c:\\users\\lenovo\\anaconda3\\lib\\site-packages (from qiskit-terra==0.46.0->qiskit>=0.44.0->qiskit-aer) (0.3.6)\n",
      "Requirement already satisfied: python-dateutil>=2.8.0 in c:\\users\\lenovo\\anaconda3\\lib\\site-packages (from qiskit-terra==0.46.0->qiskit>=0.44.0->qiskit-aer) (2.8.2)\n",
      "Requirement already satisfied: stevedore>=3.0.0 in c:\\users\\lenovo\\anaconda3\\lib\\site-packages (from qiskit-terra==0.46.0->qiskit>=0.44.0->qiskit-aer) (5.1.0)\n",
      "Requirement already satisfied: six>=1.5 in c:\\users\\lenovo\\anaconda3\\lib\\site-packages (from python-dateutil>=2.8.0->qiskit-terra==0.46.0->qiskit>=0.44.0->qiskit-aer) (1.16.0)\n",
      "Requirement already satisfied: pbr!=2.1.0,>=2.0.0 in c:\\users\\lenovo\\anaconda3\\lib\\site-packages (from stevedore>=3.0.0->qiskit-terra==0.46.0->qiskit>=0.44.0->qiskit-aer) (6.0.0)\n",
      "Requirement already satisfied: mpmath>=0.19 in c:\\users\\lenovo\\anaconda3\\lib\\site-packages (from sympy>=1.3->qiskit-terra==0.46.0->qiskit>=0.44.0->qiskit-aer) (1.3.0)\n"
     ]
    }
   ],
   "source": [
    "!pip install qiskit\n",
    "!pip install qiskit-aer"
   ]
  },
  {
   "cell_type": "code",
   "execution_count": 2,
   "id": "47231469",
   "metadata": {},
   "outputs": [],
   "source": [
    "from qiskit import QuantumCircuit,QuantumRegister,ClassicalRegister,Aer,execute\n",
    "from qiskit.quantum_info import Statevector"
   ]
  },
  {
   "cell_type": "code",
   "execution_count": 3,
   "id": "666bc939",
   "metadata": {},
   "outputs": [],
   "source": [
    "from numpy import sqrt\n",
    "\n",
    "u = Statevector([1 / sqrt(2),1/sqrt(2)])\n",
    "v = Statevector([(1 + 2.0j) / 3 , -2/3])\n"
   ]
  },
  {
   "cell_type": "code",
   "execution_count": 4,
   "id": "dc3b56b3",
   "metadata": {},
   "outputs": [
    {
     "name": "stdout",
     "output_type": "stream",
     "text": [
      "Statevector([0.70710678+0.j, 0.70710678+0.j],\n",
      "            dims=(2,))\n"
     ]
    }
   ],
   "source": [
    "u"
   ]
  },
  {
   "cell_type": "code",
   "execution_count": 5,
   "id": "24c33057",
   "metadata": {},
   "outputs": [
    {
     "data": {
      "text/latex": [
       "$$\\frac{\\sqrt{2}}{2} |0\\rangle+\\frac{\\sqrt{2}}{2} |1\\rangle$$"
      ],
      "text/plain": [
       "<IPython.core.display.Latex object>"
      ]
     },
     "metadata": {},
     "output_type": "display_data"
    }
   ],
   "source": [
    "display(u.draw('latex'))"
   ]
  },
  {
   "cell_type": "code",
   "execution_count": 6,
   "id": "4b57cfd7",
   "metadata": {},
   "outputs": [
    {
     "data": {
      "text/plain": [
       "[0.70710678+0.j,0.70710678+0.j]"
      ]
     },
     "metadata": {},
     "output_type": "display_data"
    }
   ],
   "source": [
    "display(u.draw('text'))"
   ]
  },
  {
   "cell_type": "code",
   "execution_count": 7,
   "id": "07dc15cf",
   "metadata": {},
   "outputs": [
    {
     "data": {
      "text/plain": [
       "True"
      ]
     },
     "metadata": {},
     "output_type": "display_data"
    }
   ],
   "source": [
    "# to see if the statevector is valid or not\n",
    "display(v.is_valid())"
   ]
  },
  {
   "cell_type": "markdown",
   "id": "3e59cd5a",
   "metadata": {},
   "source": [
    "<b> Simulating Measurement using Statevector </b>"
   ]
  },
  {
   "cell_type": "code",
   "execution_count": 8,
   "id": "95683541",
   "metadata": {},
   "outputs": [
    {
     "data": {
      "text/latex": [
       "$$(\\frac{1}{3} + \\frac{2 i}{3}) |0\\rangle- \\frac{2}{3} |1\\rangle$$"
      ],
      "text/plain": [
       "<IPython.core.display.Latex object>"
      ]
     },
     "metadata": {},
     "output_type": "display_data"
    }
   ],
   "source": [
    "display(v.draw('latex'))"
   ]
  },
  {
   "cell_type": "code",
   "execution_count": 9,
   "id": "0ee29ddd",
   "metadata": {},
   "outputs": [
    {
     "data": {
      "text/plain": [
       "('0',\n",
       " Statevector([0.4472136+0.89442719j, 0.       +0.j        ],\n",
       "             dims=(2,)))"
      ]
     },
     "execution_count": 9,
     "metadata": {},
     "output_type": "execute_result"
    }
   ],
   "source": [
    "v.measure()"
   ]
  },
  {
   "cell_type": "markdown",
   "id": "e37447ca",
   "metadata": {},
   "source": [
    "running the measure method simulates a standard basis measurement. It returns the result of that measurement, plus the new quantum state of our system after that measurement."
   ]
  },
  {
   "cell_type": "markdown",
   "id": "3249c18a",
   "metadata": {},
   "source": [
    "Statevector will throw an error if the measure method is applied to an invalid quantum state vector."
   ]
  },
  {
   "cell_type": "code",
   "execution_count": 10,
   "id": "c4e4397e",
   "metadata": {},
   "outputs": [
    {
     "data": {
      "image/png": "[encoded data removed]",
      "text/plain": [
       "<Figure size 800x500 with 2 Axes>"
      ]
     },
     "execution_count": 10,
     "metadata": {},
     "output_type": "execute_result"
    }
   ],
   "source": [
    "sv = Statevector([1/sqrt(2),0,0,-1/sqrt(2)])\n",
    "sv.draw('hinton')"
   ]
  },
  {
   "cell_type": "markdown",
   "id": "a7373333",
   "metadata": {},
   "source": [
    "<b> Measurement Probability Vector </b>"
   ]
  },
  {
   "cell_type": "code",
   "execution_count": 11,
   "id": "b6d4242c",
   "metadata": {},
   "outputs": [
    {
     "name": "stdout",
     "output_type": "stream",
     "text": [
      "probs: [0.5 0.  0.5 0. ]\n",
      "Qubit-0 probs : [1. 0.]\n",
      "Qubit-1 probs: [0.5 0.5]\n"
     ]
    }
   ],
   "source": [
    "psi = Statevector.from_label('+0') # same as |+> tensor |0>\n",
    "\n",
    "# probabilities for measuring both qubits\n",
    "probs = psi.probabilities()\n",
    "print(f'probs: {probs}')\n",
    "\n",
    "#probabilities for measuring only qubit - 0\n",
    "probs_qubit_0 = psi.probabilities([0])\n",
    "print(f'Qubit-0 probs : {probs_qubit_0}')\n",
    "\n",
    "# Probabilities for measuring only qubit - 1\n",
    "probs_qubit_1 = psi.probabilities([1])\n",
    "print(f'Qubit-1 probs: {probs_qubit_1}')"
   ]
  },
  {
   "cell_type": "markdown",
   "id": "74b0ad5d",
   "metadata": {},
   "source": [
    "We can also permute the order of qubits in the qargs list to change the qubit position in the probabilities output"
   ]
  },
  {
   "cell_type": "code",
   "execution_count": 12,
   "id": "31a46816",
   "metadata": {},
   "outputs": [
    {
     "name": "stdout",
     "output_type": "stream",
     "text": [
      "probs: [0.5 0.  0.5 0. ]\n",
      "Swapped probs: [0.5 0.5 0.  0. ]\n"
     ]
    }
   ],
   "source": [
    "probs = psi.probabilities([0,1])\n",
    "print(f'probs: {probs}')\n",
    "\n",
    "# probabilities for measuring both qubits but swapping qubit 0 and 1 in output\n",
    "\n",
    "probs_swapped = psi.probabilities([1,0])\n",
    "print(f'Swapped probs: {probs_swapped}')"
   ]
  },
  {
   "cell_type": "markdown",
   "id": "02ffb904",
   "metadata": {},
   "source": [
    "<b>to_dict(decimals=None)</b>"
   ]
  },
  {
   "cell_type": "code",
   "execution_count": 13,
   "id": "70c39ef3",
   "metadata": {},
   "outputs": [
    {
     "name": "stdout",
     "output_type": "stream",
     "text": [
      "{'00': (0.7071067811865475+0j), '10': (-0.7071067811865475+0j)}\n"
     ]
    }
   ],
   "source": [
    "psi = Statevector.from_label('-0')\n",
    "print(psi.to_dict())"
   ]
  },
  {
   "cell_type": "markdown",
   "id": "964b1700",
   "metadata": {},
   "source": [
    "For non-qubit subsystem the integer range can go from 0 to 9"
   ]
  },
  {
   "cell_type": "code",
   "execution_count": 14,
   "id": "532cc207",
   "metadata": {},
   "outputs": [
    {
     "name": "stdout",
     "output_type": "stream",
     "text": [
      "{'00': (0.7071067811865475+0j), '22': (0.7071067811865475+0j)}\n"
     ]
    }
   ],
   "source": [
    "import numpy as np\n",
    "\n",
    "vec = np.zeros(9)\n",
    "vec[0] = 1 / np.sqrt(2)\n",
    "vec[-1] = 1 / np.sqrt(2)\n",
    "psi = Statevector(vec , dims=(3,3))\n",
    "print(psi.to_dict())"
   ]
  },
  {
   "cell_type": "markdown",
   "id": "57b8608a",
   "metadata": {},
   "source": [
    "For large subsystem dimensions delimiters are required. The following example is for a 20-dimensional system consisting of a qubit and 10-dimensional qudit."
   ]
  },
  {
   "cell_type": "code",
   "execution_count": 15,
   "id": "9f64eae1",
   "metadata": {},
   "outputs": [
    {
     "name": "stdout",
     "output_type": "stream",
     "text": [
      "{'00': (0.7071067811865475+0j), '91': (0.7071067811865475+0j)}\n"
     ]
    }
   ],
   "source": [
    "vec = np.zeros(2*10)\n",
    "vec[0] = 1 / np.sqrt(2)\n",
    "vec[-1] = 1 / np.sqrt(2)\n",
    "psi = Statevector(vec,dims=(2,10))\n",
    "print(psi.to_dict())"
   ]
  },
  {
   "cell_type": "markdown",
   "id": "ab1b9e93",
   "metadata": {},
   "source": [
    "Statevector also comes with a sample_counts method that allows for the simulation of any number off measurement on the system."
   ]
  },
  {
   "cell_type": "code",
   "execution_count": 16,
   "id": "e28d9ff8",
   "metadata": {},
   "outputs": [
    {
     "data": {
      "text/plain": [
       "{'0': (0.3333333333333333+0.6666666666666666j), '1': (-0.6666666666666666+0j)}"
      ]
     },
     "metadata": {},
     "output_type": "display_data"
    },
    {
     "data": {
      "text/plain": [
       "{'0': 532, '1': 468}"
      ]
     },
     "metadata": {},
     "output_type": "display_data"
    },
    {
     "data": {
      "image/png": "[encoded data removed]",
      "text/plain": [
       "<Figure size 700x500 with 1 Axes>"
      ]
     },
     "execution_count": 16,
     "metadata": {},
     "output_type": "execute_result"
    }
   ],
   "source": [
    "from qiskit.visualization import plot_histogram\n",
    "\n",
    "stats = v.sample_counts(1000)\n",
    "display(v.to_dict())\n",
    "display(stats)\n",
    "plot_histogram(stats)"
   ]
  },
  {
   "cell_type": "markdown",
   "id": "a99ff5db",
   "metadata": {},
   "source": [
    "<b> Performing operations with Operator and Statevector </b>"
   ]
  },
  {
   "cell_type": "markdown",
   "id": "9cce86b2",
   "metadata": {},
   "source": [
    "Unitary operations can be defined and performed on state vectors in Qiskit using the Operator class, as in the example that follows."
   ]
  },
  {
   "cell_type": "code",
   "execution_count": 17,
   "id": "55a2121d",
   "metadata": {},
   "outputs": [
    {
     "data": {
      "text/plain": [
       "[ 0.85355339+0.35355339j,-0.35355339+0.14644661j]"
      ]
     },
     "execution_count": 17,
     "metadata": {},
     "output_type": "execute_result"
    }
   ],
   "source": [
    "from qiskit.quantum_info import Operator\n",
    "\n",
    "X = Operator([[0, 1], [1, 0]])\n",
    "Y = Operator([[0, -1.0j], [1.0j, 0]])\n",
    "Z = Operator([[1, 0], [0, -1]])\n",
    "H = Operator([[1 / sqrt(2), 1 / sqrt(2)], [1 / sqrt(2), -1 / sqrt(2)]])\n",
    "S = Operator([[1, 0], [0, 1.0j]])\n",
    "T = Operator([[1, 0], [0, (1 + 1.0j) / sqrt(2)]])\n",
    "\n",
    "v = Statevector([1, 0])\n",
    "\n",
    "v = v.evolve(H)\n",
    "v = v.evolve(T)\n",
    "v = v.evolve(H)\n",
    "v = v.evolve(T)\n",
    "v = v.evolve(Z)\n",
    "\n",
    "v.draw(\"text\")"
   ]
  },
  {
   "cell_type": "markdown",
   "id": "4df75909",
   "metadata": {},
   "source": [
    "<b> Quantum Circuit </b>"
   ]
  },
  {
   "cell_type": "code",
   "execution_count": 18,
   "id": "4bfb4b04",
   "metadata": {},
   "outputs": [
    {
     "name": "stderr",
     "output_type": "stream",
     "text": [
      "C:\\Users\\LENOVO\\anaconda3\\Lib\\site-packages\\qiskit\\visualization\\circuit\\matplotlib.py:266: FutureWarning: The default matplotlib drawer scheme will be changed to \"iqp\" in a following release. To silence this warning, specify the current default explicitly as style=\"clifford\", or the new default as style=\"iqp\".\n",
      "  self._style, def_font_ratio = load_style(self._style)\n"
     ]
    },
    {
     "data": {
      "image/png": "[encoded data removed]",
      "text/plain": [
       "<Figure size 519.897x117.056 with 1 Axes>"
      ]
     },
     "metadata": {},
     "output_type": "display_data"
    }
   ],
   "source": [
    "circuit = QuantumCircuit(1)\n",
    "\n",
    "circuit.h(0)\n",
    "circuit.t(0)\n",
    "circuit.h(0)\n",
    "circuit.t(0)\n",
    "circuit.z(0)\n",
    "\n",
    "display(circuit.draw(output='mpl'))"
   ]
  },
  {
   "cell_type": "markdown",
   "id": "158974b8",
   "metadata": {},
   "source": [
    "Let us first initialize a starting quantum state vector and then evolve that state according to the sequence of operations."
   ]
  },
  {
   "cell_type": "code",
   "execution_count": 19,
   "id": "9a30abe2",
   "metadata": {},
   "outputs": [
    {
     "data": {
      "text/latex": [
       "$$(0.8535533906 + 0.3535533906 i) |0\\rangle+(-0.3535533906 + 0.1464466094 i) |1\\rangle$$"
      ],
      "text/plain": [
       "<IPython.core.display.Latex object>"
      ]
     },
     "execution_count": 19,
     "metadata": {},
     "output_type": "execute_result"
    }
   ],
   "source": [
    "ket0 = Statevector([1,0])\n",
    "v = ket0.evolve(circuit)\n",
    "v.draw('latex')"
   ]
  },
  {
   "cell_type": "markdown",
   "id": "de450ca8",
   "metadata": {},
   "source": [
    "Finally, let's simulate the result of running this experiment (i.e., preparing the state \n",
    "∣\n",
    "0\n",
    "⟩\n",
    ",\n",
    "∣0⟩, applying the sequence of operations represented by the circuit, and measuring) 4000 times."
   ]
  },
  {
   "cell_type": "code",
   "execution_count": 20,
   "id": "c814f2ab",
   "metadata": {},
   "outputs": [
    {
     "data": {
      "image/png": "[encoded data removed]",
      "text/plain": [
       "<Figure size 700x500 with 1 Axes>"
      ]
     },
     "execution_count": 20,
     "metadata": {},
     "output_type": "execute_result"
    }
   ],
   "source": [
    "stats = v.sample_counts(4000)\n",
    "plot_histogram(stats)"
   ]
  },
  {
   "cell_type": "markdown",
   "id": "288c518d",
   "metadata": {},
   "source": [
    "<b> Tensor Products </b>"
   ]
  },
  {
   "cell_type": "code",
   "execution_count": 21,
   "id": "9b3a24d6",
   "metadata": {},
   "outputs": [
    {
     "data": {
      "text/latex": [
       "$$ |01\\rangle$$"
      ],
      "text/plain": [
       "<IPython.core.display.Latex object>"
      ]
     },
     "execution_count": 21,
     "metadata": {},
     "output_type": "execute_result"
    }
   ],
   "source": [
    "# |0> tensor |1>\n",
    "zero,one = Statevector.from_label('0'),Statevector.from_label('1')\n",
    "zero.tensor(one).draw('latex')"
   ]
  },
  {
   "cell_type": "code",
   "execution_count": 22,
   "id": "4846a7f0",
   "metadata": {},
   "outputs": [
    {
     "data": {
      "text/latex": [
       "$$\\frac{1}{2} |00\\rangle+\\frac{i}{2} |01\\rangle+\\frac{1}{2} |10\\rangle+\\frac{i}{2} |11\\rangle$$"
      ],
      "text/plain": [
       "<IPython.core.display.Latex object>"
      ]
     },
     "execution_count": 22,
     "metadata": {},
     "output_type": "execute_result"
    }
   ],
   "source": [
    "plus = Statevector.from_label('+')\n",
    "i_state = Statevector([1/sqrt(2),1j / sqrt(2)])\n",
    "psi = plus.tensor(i_state)\n",
    "psi.draw('latex')"
   ]
  },
  {
   "cell_type": "code",
   "execution_count": 23,
   "id": "12df8296",
   "metadata": {},
   "outputs": [
    {
     "name": "stdout",
     "output_type": "stream",
     "text": [
      "Operator([[0.+0.j, 0.+0.j, 1.+0.j, 0.+0.j],\n",
      "          [0.+0.j, 0.+0.j, 0.+0.j, 1.+0.j],\n",
      "          [1.+0.j, 0.+0.j, 0.+0.j, 0.+0.j],\n",
      "          [0.+0.j, 1.+0.j, 0.+0.j, 0.+0.j]],\n",
      "         input_dims=(2, 2), output_dims=(2, 2))\n"
     ]
    }
   ],
   "source": [
    "# operator class also has a tensor method\n",
    "\n",
    "X = Operator([[0,1], [1,0]])\n",
    "I = Operator([[1,0], [0,1]])\n",
    "X.tensor(I)"
   ]
  },
  {
   "cell_type": "markdown",
   "id": "081d14f0",
   "metadata": {},
   "source": [
    "^ operator tensors matrices together"
   ]
  },
  {
   "cell_type": "code",
   "execution_count": 24,
   "id": "bb52264e",
   "metadata": {},
   "outputs": [
    {
     "data": {
      "text/latex": [
       "$$\\frac{i}{2} |00\\rangle+\\frac{1}{2} |01\\rangle+\\frac{i}{2} |10\\rangle+\\frac{1}{2} |11\\rangle$$"
      ],
      "text/plain": [
       "<IPython.core.display.Latex object>"
      ]
     },
     "execution_count": 24,
     "metadata": {},
     "output_type": "execute_result"
    }
   ],
   "source": [
    "psi.evolve(I ^ X).draw('latex')"
   ]
  },
  {
   "cell_type": "code",
   "execution_count": 25,
   "id": "6232f1f3",
   "metadata": {},
   "outputs": [
    {
     "data": {
      "text/latex": [
       "$$\\frac{1}{2} |00\\rangle+\\frac{i}{2} |01\\rangle+\\frac{i}{2} |10\\rangle+\\frac{1}{2} |11\\rangle$$"
      ],
      "text/plain": [
       "<IPython.core.display.Latex object>"
      ]
     },
     "execution_count": 25,
     "metadata": {},
     "output_type": "execute_result"
    }
   ],
   "source": [
    "# creating CX operator and calculate CX|psi>\n",
    "\n",
    "CX = Operator(\n",
    "[\n",
    "    [1,0,0,0],\n",
    "    [0,1,0,0],\n",
    "    [0,0,0,1],\n",
    "    [0,0,1,0]\n",
    "])\n",
    "\n",
    "psi.evolve(CX).draw('latex')"
   ]
  },
  {
   "cell_type": "markdown",
   "id": "24a67765",
   "metadata": {},
   "source": [
    "<b> Partial Measurements </b>"
   ]
  },
  {
   "cell_type": "code",
   "execution_count": 26,
   "id": "45e3010a",
   "metadata": {},
   "outputs": [
    {
     "data": {
      "text/latex": [
       "$$\\frac{\\sqrt{3}}{3} |001\\rangle+\\frac{\\sqrt{3}}{3} |010\\rangle+\\frac{\\sqrt{3}}{3} |100\\rangle$$"
      ],
      "text/plain": [
       "<IPython.core.display.Latex object>"
      ]
     },
     "execution_count": 26,
     "metadata": {},
     "output_type": "execute_result"
    }
   ],
   "source": [
    "W = Statevector([0,1,1,0,1,0,0,0]/sqrt(3))\n",
    "W.draw('latex')"
   ]
  },
  {
   "cell_type": "markdown",
   "id": "0233d742",
   "metadata": {},
   "source": [
    "The cell below simulates a measurement on the rightmost qubit (which has index 0). The other two qubits are not measured."
   ]
  },
  {
   "cell_type": "code",
   "execution_count": 27,
   "id": "dcb61d07",
   "metadata": {},
   "outputs": [
    {
     "name": "stdout",
     "output_type": "stream",
     "text": [
      "Measured: 0 \n",
      "State after measurement: \n"
     ]
    },
    {
     "data": {
      "text/latex": [
       "$$\\frac{\\sqrt{2}}{2} |010\\rangle+\\frac{\\sqrt{2}}{2} |100\\rangle$$"
      ],
      "text/plain": [
       "<IPython.core.display.Latex object>"
      ]
     },
     "execution_count": 27,
     "metadata": {},
     "output_type": "execute_result"
    }
   ],
   "source": [
    "result , new_sv = W.measure([0])\n",
    "print(f'Measured: {result} \\nState after measurement: ')\n",
    "new_sv.draw('latex')\n",
    "    "
   ]
  },
  {
   "cell_type": "code",
   "execution_count": null,
   "id": "1ebb66e4",
   "metadata": {},
   "outputs": [],
   "source": []
  }
 ],
 "metadata": {
  "kernelspec": {
   "display_name": "Python 3 (ipykernel)",
   "language": "python",
   "name": "python3"
  },
  "language_info": {
   "codemirror_mode": {
    "name": "ipython",
    "version": 3
   },
   "file_extension": ".py",
   "mimetype": "text/x-python",
   "name": "python",
   "nbconvert_exporter": "python",
   "pygments_lexer": "ipython3",
   "version": "3.11.5"
  }
 },
 "nbformat": 4,
 "nbformat_minor": 5
}
